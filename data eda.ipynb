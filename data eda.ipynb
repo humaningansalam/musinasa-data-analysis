{
 "cells": [
  {
   "attachments": {},
   "cell_type": "markdown",
   "id": "3077c44d",
   "metadata": {},
   "source": [
    "### TO-DO\n",
    "\n",
    "- 수집한 무신사 랭킹 데이터를 엑셀에서 불러와 분석을 해본다"
   ]
  },
  {
   "cell_type": "code",
   "execution_count": null,
   "id": "3e21f755",
   "metadata": {},
   "outputs": [],
   "source": [
    "import pandas as pd\n",
    "import matplotlib.pyplot as plt\n",
    "import seaborn as sns\n",
    "from collections import Counter\n",
    "\n"
   ]
  },
  {
   "cell_type": "code",
   "execution_count": null,
   "id": "d1690f25",
   "metadata": {},
   "outputs": [],
   "source": [
    "df = pd.read_excel(\"./data/musinsa_ranklist(5page)_2023-02-15-02.xlsx\")\n",
    "df"
   ]
  },
  {
   "attachments": {},
   "cell_type": "markdown",
   "id": "248ca6a3",
   "metadata": {},
   "source": [
    "브랜드명 데이터 확인"
   ]
  },
  {
   "cell_type": "code",
   "execution_count": null,
   "id": "c7ada908",
   "metadata": {},
   "outputs": [],
   "source": [
    "\n",
    "product_names = []\n",
    "for row in df[\"브랜드명\"].str.split().tolist():\n",
    "    product_names += row\n",
    "\n",
    "t1 = Counter(product_names).most_common(30)\n",
    "\n",
    "t2 = pd.DataFrame(t1,  columns = ['col1', 'col2'])\n",
    "\n",
    "print(t2)\n"
   ]
  },
  {
   "attachments": {},
   "cell_type": "markdown",
   "id": "27bd207a",
   "metadata": {},
   "source": [
    "제품명 데이터 확인"
   ]
  },
  {
   "cell_type": "code",
   "execution_count": null,
   "id": "237b8f6a",
   "metadata": {},
   "outputs": [],
   "source": [
    "#제품명 특수문자 제거\n",
    "df['제품명']= df['제품명'].str.replace(pat=r'[^\\w]',repl=r' ',regex=True)\n",
    "df['제품명']\n",
    "\n",
    "product_names = []\n",
    "for row in df[\"제품명\"].str.split().tolist():\n",
    "    product_names += row\n",
    "\n",
    "t1 = Counter(product_names).most_common(30)\n",
    "\n",
    "t2 = pd.DataFrame(t1,  columns = ['col1', 'col2'])\n",
    "\n",
    "print(t2)"
   ]
  },
  {
   "cell_type": "code",
   "execution_count": null,
   "id": "4b78f945",
   "metadata": {},
   "outputs": [],
   "source": []
  }
 ],
 "metadata": {
  "kernelspec": {
   "display_name": "python3.8",
   "language": "python",
   "name": "python3"
  },
  "language_info": {
   "codemirror_mode": {
    "name": "ipython",
    "version": 3
   },
   "file_extension": ".py",
   "mimetype": "text/x-python",
   "name": "python",
   "nbconvert_exporter": "python",
   "pygments_lexer": "ipython3",
   "version": "3.8.15"
  },
  "vscode": {
   "interpreter": {
    "hash": "03d594a26e2c3afb7a838811247698630fe361b20f6a364c33db645ed84e8cee"
   }
  }
 },
 "nbformat": 4,
 "nbformat_minor": 5
}
