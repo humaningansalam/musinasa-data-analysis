{
 "cells": [
  {
   "attachments": {},
   "cell_type": "markdown",
   "id": "984f41c4",
   "metadata": {},
   "source": [
    "### TO-DO\n",
    "\n",
    "- 무신사 홈페이지에서 랭킹 상품들에 대한 정보를 가옴"
   ]
  },
  {
   "cell_type": "code",
   "execution_count": null,
   "id": "3d1a13c2",
   "metadata": {},
   "outputs": [],
   "source": [
    "# 라이브러리 정의\n",
    "import pandas as pd\n",
    "from selenium.webdriver import Chrome\n",
    "import time\n",
    "from tqdm.notebook import tqdm\n",
    "import warnings\n",
    "warnings.simplefilter('ignore')"
   ]
  },
  {
   "cell_type": "code",
   "execution_count": null,
   "id": "2c1b07ab",
   "metadata": {
    "scrolled": false
   },
   "outputs": [],
   "source": [
    "search_page = 1         #검색할 페이지수\n",
    "\n",
    "brand_names = []        #브랜드명 \n",
    "product_names = []      #제품명\n",
    "prices = []             #가격\n",
    "review_counts = []      #리뷰\n",
    "favorites = []          #좋아요\n",
    "coupons = []            #쿠폰\n",
    "specials = []           #특\n",
    "\n",
    "\n",
    "driver = Chrome('./chromedriver/chromedriver')\n",
    "\n",
    "for page_no in tqdm(range(search_page)):\n",
    "\n",
    "    #무신사 랭킹페이지 열기\n",
    "    page_url = f\"https://www.musinsa.com/ranking/best?period=now&age=ALL&mainCategory=&subCategory=&leafCategory=&price=&golf=false&kids=false&newProduct=false&exclusive=false&discount=false&soldOut=false&page={page_no+1}&viewType=small&priceMin=&priceMax=\"\n",
    "    driver.get(page_url)\n",
    "    time.sleep(3)\n",
    "\n",
    "\n",
    "\n",
    "    # 스크롤 높이 가져옴\n",
    "    last_height = driver.execute_script(\"return document.body.scrollHeight\")\n",
    "\n",
    "    while True:\n",
    "        # 끝까지 스크롤 다운\n",
    "        driver.execute_script(\"window.scrollTo(0, document.body.scrollHeight);\")\n",
    "\n",
    "        # 3초 대기\n",
    "        time.sleep(3)\n",
    "\n",
    "        # 스크롤 다운 후 스크롤 높이 다시 가져옴\n",
    "        new_height = driver.execute_script(\"return document.body.scrollHeight\")\n",
    "        if new_height == last_height:\n",
    "            break\n",
    "        last_height = new_height\n",
    "\n",
    "    list_basis = driver.find_element_by_id(\"goodsRankList\")\n",
    "    item_list = list_basis.find_elements_by_class_name('li_box')\n",
    "\n",
    "    #print(list_basis)\n",
    "    #print(item_list)\n",
    "\n",
    "    items = []\n",
    "    for i in tqdm(range(len(item_list))):\n",
    "        item = item_list[i]\n",
    "\n",
    "        #t = item.find_element_by_class_name('article_info')\n",
    "        #print(t.text)\n",
    "        \n",
    "        #브랜드명 가져기\n",
    "        try:\n",
    "            brand_name = item.find_element_by_class_name('item_title')\n",
    "            brand_names.append(brand_name.text)\n",
    "            #print(brand_name.text)\n",
    "        except Exception as error:\n",
    "            print(error)\n",
    "\n",
    "        #제품명 가져기\n",
    "        try:\n",
    "            product_name = item.find_element_by_class_name('list_info')\n",
    "            product_names.append(product_name.text)\n",
    "            #print(product_name.text)\n",
    "        except Exception as error:\n",
    "            print(error)\n",
    "\n",
    "        \n",
    "        #가격 가져오기\n",
    "        try:\n",
    "            price = item.find_element_by_class_name(\"price\")#.text[:-1].replace(',', '')\n",
    "            price = price.text.split(\"\\n\")[-1]\n",
    "            price = price[:-1].replace(',', '')\n",
    "            prices.append(int(price))\n",
    "            #print(price)\n",
    "        except Exception as error:\n",
    "            print(error)\n",
    "\n",
    "        #쿠폰 가져오기\n",
    "        try:\n",
    "            coupon = item.find_element_by_class_name(\"txt_discount_price\").text[:-1].replace(',', '')\n",
    "            coupons.append(coupon)\n",
    "            #print(coupon)\n",
    "        except Exception as error:\n",
    "            print(error)\n",
    "            coupons.append(0)\n",
    "            #print(0)\n",
    "\n",
    "        #리뷰 가져기\n",
    "        try:\n",
    "            review_count = item.find_element_by_class_name(\"point\").text.replace(',', '')\n",
    "            #review_count = review_count.text.replace(',', '')\n",
    "            review_counts.append(int(review_count))\n",
    "            #print(review_count)\n",
    "        except Exception as error:\n",
    "            print(error)\n",
    "            review_counts.append(0)\n",
    "            #print(0)\n",
    "\n",
    "        #좋아요 가져기\n",
    "        try:\n",
    "            favorite = item.find_element_by_name(\"count\").text.replace(',', '')\n",
    "            #favorite = favorite.text.replace(',', '')\n",
    "            favorites.append(int(favorite))\n",
    "            #print(favorite)\n",
    "        except Exception as error:\n",
    "            print(error)\n",
    "            favorites.append(0)\n",
    "            #print(0)\n",
    "\n",
    "        #특 가져오기\n",
    "        try:\n",
    "            special = item.find_element_by_class_name(\"box-icon-right\")\n",
    "            specials.append(special.text)\n",
    "            #print(special.text) \n",
    "        except Exception as error:\n",
    "            print(error)\n",
    "            specials.append(\"\")\n",
    "            #print(\"\") \n",
    "\n"
   ]
  },
  {
   "attachments": {},
   "cell_type": "markdown",
   "id": "1e399b06",
   "metadata": {},
   "source": [
    "가져온 리스트 개수확인"
   ]
  },
  {
   "cell_type": "code",
   "execution_count": null,
   "id": "d34f1e0e",
   "metadata": {},
   "outputs": [],
   "source": [
    "print(len(brand_names), len(product_names), len(prices), len(coupons), len(review_counts),  len(favorites),  len(specials))"
   ]
  },
  {
   "attachments": {},
   "cell_type": "markdown",
   "id": "2287a97d",
   "metadata": {},
   "source": [
    "리스트 데이터프레임으로 저장"
   ]
  },
  {
   "cell_type": "code",
   "execution_count": null,
   "id": "1a972404",
   "metadata": {},
   "outputs": [],
   "source": [
    "result = pd.DataFrame({\n",
    "                        \"브랜드명\" : brand_names,\n",
    "                        \"제품명\" : product_names,\n",
    "                        \"가격\" : prices,\n",
    "                        \"쿠폰\" : coupons,\n",
    "                        \"리뷰수\" : review_counts,\n",
    "                        \"좋아요\" : favorites,\n",
    "                        \"특\" : specials\n",
    "                        })\n",
    "result"
   ]
  },
  {
   "attachments": {},
   "cell_type": "markdown",
   "id": "cccca6a9",
   "metadata": {},
   "source": [
    "엑셀로 저장시키기"
   ]
  },
  {
   "cell_type": "code",
   "execution_count": null,
   "id": "0a9edf8c",
   "metadata": {},
   "outputs": [],
   "source": [
    "result.to_excel(f\"./data/musinsa_ranklist({search_page}page)_{time.strftime('%Y-%m-%d-%I', time.localtime(time.time()))}.xlsx\", index=False)"
   ]
  },
  {
   "cell_type": "code",
   "execution_count": null,
   "id": "27bd0282",
   "metadata": {},
   "outputs": [],
   "source": []
  }
 ],
 "metadata": {
  "kernelspec": {
   "display_name": "python3.8",
   "language": "python",
   "name": "python3"
  },
  "language_info": {
   "codemirror_mode": {
    "name": "ipython",
    "version": 3
   },
   "file_extension": ".py",
   "mimetype": "text/x-python",
   "name": "python",
   "nbconvert_exporter": "python",
   "pygments_lexer": "ipython3",
   "version": "3.8.15"
  },
  "vscode": {
   "interpreter": {
    "hash": "03d594a26e2c3afb7a838811247698630fe361b20f6a364c33db645ed84e8cee"
   }
  }
 },
 "nbformat": 4,
 "nbformat_minor": 5
}
